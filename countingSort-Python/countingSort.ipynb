{
 "cells": [
  {
   "cell_type": "markdown",
   "metadata": {
    "id": "l8rPQJR9gWqR"
   },
   "source": [
    "# Generacion de files txt"
   ]
  },
  {
   "cell_type": "code",
   "execution_count": null,
   "metadata": {
    "id": "yCRM3lBtcio5"
   },
   "outputs": [],
   "source": [
    "from random import randint\n",
    "import json\n",
    "\n",
    "u=100\n",
    "numero_aleatorios = [randint(1,100) for _ in range(u)]\n",
    "a = numero_aleatorios\n",
    "with open('File_100.txt', 'w') as f:\n",
    "    f.write(json.dumps(a))\n",
    "u=500\n",
    "numero_aleatorios = [randint(1,100) for _ in range(u)]\n",
    "a = numero_aleatorios\n",
    "with open('File_500.txt', 'w') as f:\n",
    "    f.write(json.dumps(a))\n",
    "u=1000\n",
    "while u < 10000:\n",
    "\n",
    "  if u>=1000 and u<10000:\n",
    "    numero_aleatorios = [randint(1,100) for _ in range(u)]\n",
    "    files=\"File_\"\n",
    "    num=str(u)\n",
    "    ext=\".txt\"\n",
    "    mi_path = files+num+ext\n",
    "    with open(mi_path, 'w') as f:\n",
    "      f.write(json.dumps(numero_aleatorios))\n",
    "    f.close()\n",
    "    numero_aleatorios=[]\n",
    "  u=u+1000\n",
    "\n",
    "while u <= 100000:\n",
    "  if u>=10000 and u<=100000:\n",
    "    numero_aleatorios = [randint(1,100) for _ in range(u)]\n",
    "    files=\"File_\"\n",
    "    num=str(u)\n",
    "    ext=\".txt\"\n",
    "    mi_path = files+num+ext\n",
    "    with open(mi_path, 'w') as f:\n",
    "      f.write(json.dumps(numero_aleatorios))\n",
    "    f.close()\n",
    "    numero_aleatorios=[]\n",
    "  u=u+10000\n"
   ]
  },
  {
   "cell_type": "markdown",
   "metadata": {
    "id": "QN1f5AUd0fSm"
   },
   "source": [
    "# ALgoritmo"
   ]
  },
  {
   "cell_type": "code",
   "execution_count": 9,
   "metadata": {
    "id": "p2qQHKUTBWzx"
   },
   "outputs": [],
   "source": [
    "# Python program for counting sort\n",
    "# which takes negative numbers as well\n",
    "\n",
    "# The function that sorts the given arr[]\n",
    "def count_sort(arr):\n",
    "\tmax_element = int(max(arr))\n",
    "\tmin_element = int(min(arr))\n",
    "\trange_of_elements = max_element - min_element + 1\n",
    "\t# Create a count array to store count of individual\n",
    "\t# elements and initialize count array as 0\n",
    "\tcount_arr = [0 for _ in range(range_of_elements)]\n",
    "\toutput_arr = [0 for _ in range(len(arr))]\n",
    "\n",
    "\t# Store count of each character\n",
    "\tfor i in range(0, len(arr)):\n",
    "\t\tcount_arr[arr[i]-min_element] += 1\n",
    "\n",
    "\t# Change count_arr[i] so that count_arr[i] now contains actual\n",
    "\t# position of this element in output array\n",
    "\tfor i in range(1, len(count_arr)):\n",
    "\t\tcount_arr[i] += count_arr[i-1]\n",
    "\n",
    "\t# Build the output character array\n",
    "\tfor i in range(len(arr)-1, -1, -1):\n",
    "\t\toutput_arr[count_arr[arr[i] - min_element] - 1] = arr[i]\n",
    "\t\tcount_arr[arr[i] - min_element] -= 1\n",
    "\n",
    "\t# Copy the output array to arr, so that arr now\n",
    "\t# contains sorted characters\n",
    "\tfor i in range(0, len(arr)):\n",
    "\t\tarr[i] = output_arr[i]\n",
    "\n",
    "\treturn arr\n",
    "\n",
    "\n",
    "# Driver program to test above function\n",
    "#arr = [-5, -10, 0, -3, 8, 5, -1, 10]\n",
    "#ans = count_sort(arr)\n",
    "#print(\"Sorted character array is \" + str(ans))\n"
   ]
  },
  {
   "cell_type": "markdown",
   "metadata": {
    "id": "RARhthYz1Xw1"
   },
   "source": [
    "# Ejecucion"
   ]
  },
  {
   "cell_type": "code",
   "execution_count": 10,
   "metadata": {
    "colab": {
     "base_uri": "https://localhost:8080/"
    },
    "id": "xI3aD5yDGJYW",
    "outputId": "5cbf4176-a53b-47bd-ad16-6146420dd83f"
   },
   "outputs": [
    {
     "name": "stdout",
     "output_type": "stream",
     "text": [
      "File_100.txt\n",
      "100\n",
      "File_500.txt\n",
      "500\n",
      "File_1000.txt\n",
      "1000\n",
      "File_2000.txt\n",
      "2000\n",
      "File_3000.txt\n",
      "3000\n",
      "File_4000.txt\n",
      "4000\n",
      "File_5000.txt\n",
      "5000\n",
      "File_6000.txt\n",
      "6000\n",
      "File_7000.txt\n",
      "7000\n",
      "File_8000.txt\n",
      "8000\n",
      "File_9000.txt\n",
      "9000\n",
      "File_10000.txt\n",
      "10000\n",
      "File_20000.txt\n",
      "20000\n",
      "File_30000.txt\n",
      "30000\n",
      "File_40000.txt\n",
      "40000\n",
      "File_50000.txt\n",
      "50000\n",
      "File_60000.txt\n",
      "60000\n",
      "File_70000.txt\n",
      "70000\n",
      "File_80000.txt\n",
      "80000\n",
      "File_90000.txt\n",
      "90000\n",
      "File_100000.txt\n",
      "100000\n"
     ]
    }
   ],
   "source": [
    "import time\n",
    "import json\n",
    "u=100\n",
    "tiempo=[]\n",
    "ordenado=[]\n",
    "\n",
    "files=\"File_\"\n",
    "ext=\".txt\"\n",
    "while u<=500:\n",
    "  num=str(u)\n",
    "  mi_path = files+num+ext\n",
    "  print(mi_path)\n",
    "  with open(mi_path, 'r') as f:\n",
    "      a = json.loads(f.read())\n",
    "  print(len(a))\n",
    "  #print(a)\n",
    "  inicio = time.time()\n",
    "  #ordenado.append(countingSort(a))\n",
    "  ordenado.append(count_sort(a))\n",
    "  fin = time.time()\n",
    "  #print(ordenado)\n",
    "  tiempo.append(fin-inicio)\n",
    "  u=u+400\n",
    "\n",
    "u=1000\n",
    "while u <= 100000:\n",
    "  num=str(u)\n",
    "  mi_path = files+num+ext\n",
    "  print(mi_path)\n",
    "  with open(mi_path, 'r') as f:\n",
    "      a = json.loads(f.read())\n",
    "  print(len(a))\n",
    "  #print(a)\n",
    "  inicio = time.time()\n",
    "  #ordenado.append(countingSort(a))\n",
    "  ordenado.append(count_sort(a))\n",
    "  fin = time.time()\n",
    "  #print(ordenado)\n",
    "  tiempo.append(fin-inicio)\n",
    "\n",
    "  if u>=1000 and u<10000:\n",
    "    u=u+1000\n",
    "  elif u>=10000 and u<=100000:\n",
    "    u=u+10000\n",
    "\n"
   ]
  },
  {
   "cell_type": "code",
   "execution_count": 11,
   "metadata": {
    "colab": {
     "base_uri": "https://localhost:8080/"
    },
    "id": "A90g8TK5Rg2G",
    "outputId": "161ece4a-4a66-49d0-faec-caa4bac19354"
   },
   "outputs": [
    {
     "name": "stdout",
     "output_type": "stream",
     "text": [
      "21\n"
     ]
    }
   ],
   "source": [
    "print(len(ordenado))"
   ]
  },
  {
   "cell_type": "markdown",
   "metadata": {
    "id": "U8lwX57Y_0f0"
   },
   "source": [
    "# Plot"
   ]
  },
  {
   "cell_type": "code",
   "execution_count": 12,
   "metadata": {
    "colab": {
     "base_uri": "https://localhost:8080/"
    },
    "id": "NLIt8HhtvXO_",
    "outputId": "2733f737-d312-4d30-bb31-0fbdd8f0a394"
   },
   "outputs": [
    {
     "name": "stdout",
     "output_type": "stream",
     "text": [
      "[4.839897155761719e-05, 0.0001659393310546875, 0.0003147125244140625, 0.0006089210510253906, 0.0009214878082275391, 0.0012125968933105469, 0.0015377998352050781, 0.001882791519165039, 0.002147674560546875, 0.0024514198303222656, 0.003014087677001953, 0.0033864974975585938, 0.005929708480834961, 0.009775161743164062, 0.012791156768798828, 0.015157461166381836, 0.018935680389404297, 0.022680044174194336, 0.024598121643066406, 0.028213977813720703, 0.03191351890563965]\n"
     ]
    }
   ],
   "source": [
    "print(tiempo)"
   ]
  },
  {
   "cell_type": "code",
   "execution_count": 15,
   "metadata": {
    "id": "GBZWjMjEDiOP"
   },
   "outputs": [],
   "source": [
    "tiempo_c=[744, 736, 868,786, 742, 732, 726, 832, 790, 738, 752, 741, 740, 763, 721, 772, 733, 724, 760, 738]"
   ]
  },
  {
   "cell_type": "code",
   "execution_count": 16,
   "metadata": {
    "colab": {
     "base_uri": "https://localhost:8080/"
    },
    "id": "JOtfSWsaDzVv",
    "outputId": "ab3e4d09-7eaa-409a-c36a-8ec6bc5cd5d7"
   },
   "outputs": [
    {
     "name": "stdout",
     "output_type": "stream",
     "text": [
      "[744, 736, 868, 786, 742, 732, 726, 832, 790, 738, 752, 741, 740, 763, 721, 772, 733, 724, 760, 738]\n"
     ]
    }
   ],
   "source": [
    "print(tiempo_c)"
   ]
  },
  {
   "cell_type": "code",
   "execution_count": 19,
   "metadata": {
    "colab": {
     "base_uri": "https://localhost:8080/",
     "height": 295
    },
    "id": "H-Yps-rt1iCy",
    "outputId": "f9849200-8f46-4eaf-abf5-89b4cf26a7c1"
   },
   "outputs": [
    {
     "data": {
      "image/png": "[encoded data removed]",
      "text/plain": [
       "<Figure size 432x288 with 1 Axes>"
      ]
     },
     "metadata": {
      "needs_background": "light"
     },
     "output_type": "display_data"
    }
   ],
   "source": [
    "from matplotlib import pyplot as plt\n",
    "#plt.plot(tiempo)\n",
    "plt.plot(tiempo, label = \"line 1\")\n",
    "#plt.plot(tiempo_c)\n",
    "plt.plot(tiempo_c, label = \"line 2\")\n",
    "plt.title('Comparacion de algoritmos')\n",
    "plt.xlabel('Archivos')\n",
    "plt.ylabel('Tiempo de ejecucióón')\n",
    "plt.show()"
   ]
  },
  {
   "cell_type": "code",
   "execution_count": null,
   "metadata": {
    "id": "ZmtVVZck1iLm"
   },
   "outputs": [],
   "source": []
  },
  {
   "cell_type": "code",
   "execution_count": null,
   "metadata": {
    "id": "hf7L5fQjzBO9"
   },
   "outputs": [],
   "source": []
  }
 ],
 "metadata": {
  "colab": {
   "collapsed_sections": [],
   "name": "countingSort.ipynb",
   "provenance": [],
   "toc_visible": true
  },
  "kernelspec": {
   "display_name": "Python 3",
   "language": "python",
   "name": "python3"
  },
  "language_info": {
   "codemirror_mode": {
    "name": "ipython",
    "version": 3
   },
   "file_extension": ".py",
   "mimetype": "text/x-python",
   "name": "python",
   "nbconvert_exporter": "python",
   "pygments_lexer": "ipython3",
   "version": "3.9.5"
  }
 },
 "nbformat": 4,
 "nbformat_minor": 1
}
