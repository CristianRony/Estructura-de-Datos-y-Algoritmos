{
 "cells": [
  {
   "cell_type": "markdown",
   "metadata": {
    "id": "l8rPQJR9gWqR"
   },
   "source": [
    "# Generacion de files txt"
   ]
  },
  {
   "cell_type": "code",
   "execution_count": 45,
   "metadata": {
    "id": "yCRM3lBtcio5"
   },
   "outputs": [],
   "source": [
    "from random import randint\n",
    "import json\n",
    "\n",
    "u=100\n",
    "numero_aleatorios = [randint(1,100) for _ in range(u)]\n",
    "a = numero_aleatorios\n",
    "with open('File_100.txt', 'w') as f:\n",
    "    f.write(json.dumps(a))\n",
    "u=500\n",
    "numero_aleatorios = [randint(1,100) for _ in range(u)]\n",
    "a = numero_aleatorios\n",
    "with open('File_500.txt', 'w') as f:\n",
    "    f.write(json.dumps(a))\n",
    "u=1000\n",
    "while u < 10000:\n",
    "\n",
    "  if u>=1000 and u<10000:\n",
    "    numero_aleatorios = [randint(1,100) for _ in range(u)]\n",
    "    files=\"File_\"\n",
    "    num=str(u)\n",
    "    ext=\".txt\"\n",
    "    mi_path = files+num+ext\n",
    "    with open(mi_path, 'w') as f:\n",
    "      f.write(json.dumps(numero_aleatorios))\n",
    "    f.close()\n",
    "    numero_aleatorios=[]\n",
    "  u=u+1000\n",
    "\n",
    "while u <= 100000:\n",
    "  if u>=10000 and u<=100000:\n",
    "    numero_aleatorios = [randint(1,100) for _ in range(u)]\n",
    "    files=\"File_\"\n",
    "    num=str(u)\n",
    "    ext=\".txt\"\n",
    "    mi_path = files+num+ext\n",
    "    with open(mi_path, 'w') as f:\n",
    "      f.write(json.dumps(numero_aleatorios))\n",
    "    f.close()\n",
    "    numero_aleatorios=[]\n",
    "  u=u+10000\n"
   ]
  },
  {
   "cell_type": "markdown",
   "metadata": {
    "id": "QN1f5AUd0fSm"
   },
   "source": [
    "# ALgoritmo"
   ]
  },
  {
   "cell_type": "code",
   "execution_count": 94,
   "metadata": {
    "id": "p2qQHKUTBWzx"
   },
   "outputs": [],
   "source": [
    "# Python program for Heap Sort\n",
    "def HeapSort(arr):\n",
    "  n = len(arr)\n",
    "  for i in range(n//2, -1, -1):\n",
    "    heapify(arr, n-1, i)\n",
    "\n",
    "  for i in range(n-1, -1, -1):\n",
    "    # swap last element of the max-heap with the first element\n",
    "    arr[i], arr[0] = arr[0], arr[i]\n",
    "    \n",
    "    # exclude the last element from the heap and rebuild the heap \n",
    "    heapify(arr, i-1, 0)\n",
    "\n",
    "# heapify function is used to build the max heap\n",
    "# max heap has maximum element at the root which means\n",
    "# first element of the array will be maximum in max heap\n",
    "def heapify(arr, n, i):\n",
    "  max, left, right = i, 2*i + 1, 2*i + 2\n",
    "  # if the left element is greater than root\n",
    "  if left <= n and arr[left] > arr[max]:\n",
    "    max = left\n",
    "\n",
    "  # if the right element is greater than root\n",
    "  if right <= n and arr[right] > arr[max]:\n",
    "    max = right\n",
    "\n",
    "  # if the max is not i\n",
    "  if max != i:\n",
    "    arr[i], arr[max] = arr[max], arr[i]\n",
    "    # Recursively heapify the affected sub-tree\n",
    "    heapify(arr, n, max) \n",
    "\n",
    "\n"
   ]
  },
  {
   "cell_type": "markdown",
   "metadata": {
    "id": "RARhthYz1Xw1"
   },
   "source": [
    "# Ejecucion"
   ]
  },
  {
   "cell_type": "code",
   "execution_count": 84,
   "metadata": {
    "colab": {
     "base_uri": "https://localhost:8080/"
    },
    "id": "A90g8TK5Rg2G",
    "outputId": "161ece4a-4a66-49d0-faec-caa4bac19354"
   },
   "outputs": [
    {
     "name": "stdout",
     "output_type": "stream",
     "text": [
      "21\n"
     ]
    }
   ],
   "source": [
    "print(len(ordenado))"
   ]
  },
  {
   "cell_type": "markdown",
   "metadata": {
    "id": "U8lwX57Y_0f0"
   },
   "source": [
    "# Plot"
   ]
  },
  {
   "cell_type": "code",
   "execution_count": 85,
   "metadata": {
    "colab": {
     "base_uri": "https://localhost:8080/"
    },
    "id": "NLIt8HhtvXO_",
    "outputId": "2733f737-d312-4d30-bb31-0fbdd8f0a394"
   },
   "outputs": [
    {
     "name": "stdout",
     "output_type": "stream",
     "text": [
      "[0.0, 0.0029916763305664062, 0.008978605270385742, 0.012998104095458984, 0.020984172821044922, 0.03690457344055176, 0.0359034538269043, 0.04823040962219238, 0.07280611991882324, 0.06409907341003418, 0.051047563552856445, 0.07806992530822754, 0.1910696029663086, 0.29051828384399414, 0.3906230926513672, 0.45977020263671875, 0.6037869453430176, 0.6781871318817139, 0.8537354469299316, 0.9285340309143066, 1.1295762062072754]\n"
     ]
    }
   ],
   "source": [
    "print(tiempo)"
   ]
  },
  {
   "cell_type": "code",
   "execution_count": 86,
   "metadata": {
    "colab": {
     "base_uri": "https://localhost:8080/"
    },
    "id": "xI3aD5yDGJYW",
    "outputId": "5cbf4176-a53b-47bd-ad16-6146420dd83f"
   },
   "outputs": [
    {
     "name": "stdout",
     "output_type": "stream",
     "text": [
      "File_100.txt\n",
      "100\n",
      "File_500.txt\n",
      "500\n",
      "File_1000.txt\n",
      "1000\n",
      "File_2000.txt\n",
      "2000\n",
      "File_3000.txt\n",
      "3000\n",
      "File_4000.txt\n",
      "4000\n",
      "File_5000.txt\n",
      "5000\n",
      "File_6000.txt\n",
      "6000\n",
      "File_7000.txt\n",
      "7000\n",
      "File_8000.txt\n",
      "8000\n",
      "File_9000.txt\n",
      "9000\n",
      "File_10000.txt\n",
      "10000\n",
      "File_20000.txt\n",
      "20000\n",
      "File_30000.txt\n",
      "30000\n",
      "File_40000.txt\n",
      "40000\n",
      "File_50000.txt\n",
      "50000\n",
      "File_60000.txt\n",
      "60000\n",
      "File_70000.txt\n",
      "70000\n",
      "File_80000.txt\n",
      "80000\n",
      "File_90000.txt\n",
      "90000\n",
      "File_100000.txt\n",
      "100000\n"
     ]
    }
   ],
   "source": [
    "import time\n",
    "import json\n",
    "u=100\n",
    "tiempo=[]\n",
    "ordenado=[]\n",
    "\n",
    "files=\"File_\"\n",
    "ext=\".txt\"\n",
    "while u<=500:\n",
    "  num=str(u)\n",
    "  mi_path = files+num+ext\n",
    "  print(mi_path)\n",
    "  with open(mi_path, 'r') as f:\n",
    "      a = json.loads(f.read())\n",
    "  print(len(a))\n",
    "  #print(a)\n",
    "  inicio = time.time()\n",
    "  #ordenado.append(heapSort(a))\n",
    "  ordenado.append(heapSort(a))\n",
    "  fin = time.time()\n",
    "  #print(ordenado)\n",
    "  tiempo.append(fin-inicio)\n",
    "  u=u+400\n",
    "\n",
    "u=1000\n",
    "while u <= 100000:\n",
    "  num=str(u)\n",
    "  mi_path = files+num+ext\n",
    "  print(mi_path)\n",
    "  with open(mi_path, 'r') as f:\n",
    "      a = json.loads(f.read())\n",
    "  print(len(a))\n",
    "  #print(a)\n",
    "  inicio = time.time()\n",
    "  #ordenado.append(heapSort(a))\n",
    "  ordenado.append(heapSort(a))\n",
    "  fin = time.time()\n",
    "  #print(ordenado)\n",
    "  tiempo.append(fin-inicio)\n",
    "\n",
    "  if u>=1000 and u<10000:\n",
    "    u=u+1000\n",
    "  elif u>=10000 and u<=100000:\n",
    "    u=u+10000\n",
    "\n"
   ]
  },
  {
   "cell_type": "code",
   "execution_count": 87,
   "metadata": {
    "id": "GBZWjMjEDiOP"
   },
   "outputs": [],
   "source": [
    "tiempo_c=[744, 736, 868,786, 742, 732, 726, 832, 790, 738, 752, 741, 740, 763, 721, 772, 733, 724, 760, 738]"
   ]
  },
  {
   "cell_type": "code",
   "execution_count": 51,
   "metadata": {
    "colab": {
     "base_uri": "https://localhost:8080/"
    },
    "id": "JOtfSWsaDzVv",
    "outputId": "ab3e4d09-7eaa-409a-c36a-8ec6bc5cd5d7"
   },
   "outputs": [
    {
     "name": "stdout",
     "output_type": "stream",
     "text": [
      "[744, 736, 868, 786, 742, 732, 726, 832, 790, 738, 752, 741, 740, 763, 721, 772, 733, 724, 760, 738]\n"
     ]
    }
   ],
   "source": [
    "print(tiempo_c)"
   ]
  },
  {
   "cell_type": "code",
   "execution_count": 52,
   "metadata": {
    "colab": {
     "base_uri": "https://localhost:8080/",
     "height": 295
    },
    "id": "H-Yps-rt1iCy",
    "outputId": "f9849200-8f46-4eaf-abf5-89b4cf26a7c1"
   },
   "outputs": [
    {
     "data": {
      "image/png": "[encoded data removed]",
      "text/plain": [
       "<Figure size 432x288 with 1 Axes>"
      ]
     },
     "metadata": {
      "needs_background": "light"
     },
     "output_type": "display_data"
    }
   ],
   "source": [
    "from matplotlib import pyplot as plt\n",
    "#plt.plot(tiempo)\n",
    "plt.plot(tiempo, label = \"line 1\")\n",
    "#plt.plot(tiempo_c)\n",
    "plt.plot(tiempo_c, label = \"line 2\")\n",
    "plt.title('Comparacion de algoritmos')\n",
    "plt.xlabel('Archivos')\n",
    "plt.ylabel('Tiempo de ejecución')\n",
    "plt.show()"
   ]
  },
  {
   "cell_type": "code",
   "execution_count": null,
   "metadata": {
    "id": "ZmtVVZck1iLm"
   },
   "outputs": [],
   "source": []
  },
  {
   "cell_type": "code",
   "execution_count": null,
   "metadata": {
    "id": "hf7L5fQjzBO9"
   },
   "outputs": [],
   "source": []
  },
  {
   "cell_type": "code",
   "execution_count": null,
   "metadata": {},
   "outputs": [],
   "source": []
  }
 ],
 "metadata": {
  "colab": {
   "collapsed_sections": [],
   "name": "countingSort.ipynb",
   "provenance": [],
   "toc_visible": true
  },
  "kernelspec": {
   "display_name": "Python 3",
   "language": "python",
   "name": "python3"
  },
  "language_info": {
   "codemirror_mode": {
    "name": "ipython",
    "version": 3
   },
   "file_extension": ".py",
   "mimetype": "text/x-python",
   "name": "python",
   "nbconvert_exporter": "python",
   "pygments_lexer": "ipython3",
   "version": "3.8.8"
  }
 },
 "nbformat": 4,
 "nbformat_minor": 1
}
