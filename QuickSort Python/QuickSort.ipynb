{
 "cells": [
  {
   "cell_type": "code",
   "execution_count": 1,
   "id": "63d9f4ec",
   "metadata": {},
   "outputs": [
    {
     "name": "stdout",
     "output_type": "stream",
     "text": [
      "Sorted List: [2, 5, 7, 23, 45, 99, 1345, 6576]\n"
     ]
    }
   ],
   "source": [
    "def partitionFunc(data, low, high):\n",
    "    pivot = data[low]\n",
    "    i = low+1\n",
    "    j = high\n",
    "    issorted = False\n",
    "\n",
    "    while not issorted:\n",
    "        while i <= j and data[i] <= pivot:\n",
    "            i += 1\n",
    "        while j >= i and data[j] >= pivot:\n",
    "            j -= 1\n",
    "        if j < i:\n",
    "            issorted = True\n",
    "        else:\n",
    "            data[i],data[j] = data[j],data[i] \n",
    "    data[low],data[j] = data[j],data[low] \n",
    "    return j\n",
    "\n",
    "def QuickSort(data, low, high):\n",
    "    if low < high:\n",
    "        split = partitionFunc(data, low, high)\n",
    "        QuickSort(data, low, split-1)\n",
    "        QuickSort(data, split+1, high)\n",
    "\n",
    "    return data\n",
    "\n",
    "A = [99,45,23,6576,1345,7,2,5]\n",
    "print(\"Sorted List:\",QuickSort(A,0,len(A)-1))"
   ]
  },
  {
   "cell_type": "code",
   "execution_count": null,
   "id": "107edb69",
   "metadata": {},
   "outputs": [],
   "source": []
  }
 ],
 "metadata": {
  "kernelspec": {
   "display_name": "Python 3",
   "language": "python",
   "name": "python3"
  },
  "language_info": {
   "codemirror_mode": {
    "name": "ipython",
    "version": 3
   },
   "file_extension": ".py",
   "mimetype": "text/x-python",
   "name": "python",
   "nbconvert_exporter": "python",
   "pygments_lexer": "ipython3",
   "version": "3.8.8"
  }
 },
 "nbformat": 4,
 "nbformat_minor": 5
}
