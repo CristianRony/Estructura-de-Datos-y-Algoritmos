{
 "cells": [
  {
   "cell_type": "markdown",
   "metadata": {
    "id": "l8rPQJR9gWqR"
   },
   "source": [
    "# Generacion de files txt"
   ]
  },
  {
   "cell_type": "code",
   "execution_count": 107,
   "metadata": {
    "id": "yCRM3lBtcio5"
   },
   "outputs": [],
   "source": [
    "from random import randint\n",
    "import json\n",
    "\n",
    "u=100\n",
    "numero_aleatorios = [randint(1,100) for _ in range(u)]\n",
    "a = numero_aleatorios\n",
    "with open('File_100.txt', 'w') as f:\n",
    "    f.write(json.dumps(a))\n",
    "u=500\n",
    "numero_aleatorios = [randint(1,100) for _ in range(u)]\n",
    "a = numero_aleatorios\n",
    "with open('File_500.txt', 'w') as f:\n",
    "    f.write(json.dumps(a))\n",
    "u=1000\n",
    "while u < 10000:\n",
    "\n",
    "  if u>=1000 and u<10000:\n",
    "    numero_aleatorios = [randint(1,100) for _ in range(u)]\n",
    "    files=\"File_\"\n",
    "    num=str(u)\n",
    "    ext=\".txt\"\n",
    "    mi_path = files+num+ext\n",
    "    with open(mi_path, 'w') as f:\n",
    "      f.write(json.dumps(numero_aleatorios))\n",
    "    f.close()\n",
    "    numero_aleatorios=[]\n",
    "  u=u+1000\n",
    "\n",
    "while u <= 100000:\n",
    "  if u>=10000 and u<=100000:\n",
    "    numero_aleatorios = [randint(1,100) for _ in range(u)]\n",
    "    files=\"File_\"\n",
    "    num=str(u)\n",
    "    ext=\".txt\"\n",
    "    mi_path = files+num+ext\n",
    "    with open(mi_path, 'w') as f:\n",
    "      f.write(json.dumps(numero_aleatorios))\n",
    "    f.close()\n",
    "    numero_aleatorios=[]\n",
    "  u=u+10000\n"
   ]
  },
  {
   "cell_type": "markdown",
   "metadata": {
    "id": "QN1f5AUd0fSm"
   },
   "source": [
    "# ALgoritmo"
   ]
  },
  {
   "cell_type": "code",
   "execution_count": 108,
   "metadata": {
    "id": "p2qQHKUTBWzx"
   },
   "outputs": [],
   "source": [
    "# Python program for Quick Sort\n",
    "def QuickSort(arr):\n",
    "\n",
    "    elements = len(arr)\n",
    "    \n",
    "    #Base case\n",
    "    if elements < 2:\n",
    "        return arr\n",
    "    \n",
    "    current_position = 0 #Position of the partitioning element\n",
    "\n",
    "    for i in range(1, elements): #Partitioning loop\n",
    "         if arr[i] <= arr[0]:\n",
    "              current_position += 1\n",
    "              temp = arr[i]\n",
    "              arr[i] = arr[current_position]\n",
    "              arr[current_position] = temp\n",
    "\n",
    "    temp = arr[0]\n",
    "    arr[0] = arr[current_position] \n",
    "    arr[current_position] = temp #Brings pivot to it's appropriate position\n",
    "    \n",
    "    left = QuickSort(arr[0:current_position]) #Sorts the elements to the left of pivot\n",
    "    right = QuickSort(arr[current_position+1:elements]) #sorts the elements to the right of pivot\n",
    "\n",
    "    arr = left + [arr[current_position]] + right #Merging everything together\n",
    "    \n",
    "    return arr\n"
   ]
  },
  {
   "cell_type": "markdown",
   "metadata": {
    "id": "RARhthYz1Xw1"
   },
   "source": [
    "# Ejecucion"
   ]
  },
  {
   "cell_type": "code",
   "execution_count": 109,
   "metadata": {
    "colab": {
     "base_uri": "https://localhost:8080/"
    },
    "id": "xI3aD5yDGJYW",
    "outputId": "5cbf4176-a53b-47bd-ad16-6146420dd83f"
   },
   "outputs": [
    {
     "name": "stdout",
     "output_type": "stream",
     "text": [
      "File_100.txt\n",
      "100\n",
      "File_500.txt\n",
      "500\n",
      "File_1000.txt\n",
      "1000\n",
      "File_2000.txt\n",
      "2000\n",
      "File_3000.txt\n",
      "3000\n",
      "File_4000.txt\n",
      "4000\n",
      "File_5000.txt\n",
      "5000\n",
      "File_6000.txt\n",
      "6000\n",
      "File_7000.txt\n",
      "7000\n",
      "File_8000.txt\n",
      "8000\n",
      "File_9000.txt\n",
      "9000\n",
      "File_10000.txt\n",
      "10000\n",
      "File_20000.txt\n",
      "20000\n",
      "File_30000.txt\n",
      "30000\n",
      "File_40000.txt\n",
      "40000\n",
      "File_50000.txt\n",
      "50000\n",
      "File_60000.txt\n",
      "60000\n",
      "File_70000.txt\n",
      "70000\n",
      "File_80000.txt\n",
      "80000\n",
      "File_90000.txt\n",
      "90000\n",
      "File_100000.txt\n",
      "100000\n"
     ]
    }
   ],
   "source": [
    "import time\n",
    "import json\n",
    "u=100\n",
    "tiempo=[]\n",
    "ordenado=[]\n",
    "\n",
    "files=\"File_\"\n",
    "ext=\".txt\"\n",
    "while u<=500:\n",
    "  num=str(u)\n",
    "  mi_path = files+num+ext\n",
    "  print(mi_path)\n",
    "  with open(mi_path, 'r') as f:\n",
    "      a = json.loads(f.read())\n",
    "  print(len(a))\n",
    "  #print(a)\n",
    "  inicio = time.time()\n",
    "  #ordenado.append(QuickSort(a))\n",
    "  ordenado.append(QuickSort(a))\n",
    "  fin = time.time()\n",
    "  #print(ordenado)\n",
    "  tiempo.append(fin-inicio)\n",
    "  u=u+400\n",
    "\n",
    "u=1000\n",
    "while u <= 100000:\n",
    "  num=str(u)\n",
    "  mi_path = files+num+ext\n",
    "  print(mi_path)\n",
    "  with open(mi_path, 'r') as f:\n",
    "      a = json.loads(f.read())\n",
    "  print(len(a))\n",
    "  #print(a)\n",
    "  inicio = time.time()\n",
    "  #ordenado.append(QuickSort(a))\n",
    "  ordenado.append(QuickSort(a))\n",
    "  fin = time.time()\n",
    "  #print(ordenado)\n",
    "  tiempo.append(round((fin-inicio)*1000,3))\n",
    "\n",
    "  if u>=1000 and u<10000:\n",
    "    u=u+1000\n",
    "  elif u>=10000 and u<=100000:\n",
    "    u=u+10000\n",
    "\n"
   ]
  },
  {
   "cell_type": "code",
   "execution_count": 110,
   "metadata": {
    "colab": {
     "base_uri": "https://localhost:8080/"
    },
    "id": "A90g8TK5Rg2G",
    "outputId": "161ece4a-4a66-49d0-faec-caa4bac19354"
   },
   "outputs": [
    {
     "name": "stdout",
     "output_type": "stream",
     "text": [
      "21\n"
     ]
    }
   ],
   "source": [
    "print(len(ordenado))"
   ]
  },
  {
   "cell_type": "markdown",
   "metadata": {
    "id": "U8lwX57Y_0f0"
   },
   "source": [
    "# Plot"
   ]
  },
  {
   "cell_type": "code",
   "execution_count": 111,
   "metadata": {
    "colab": {
     "base_uri": "https://localhost:8080/"
    },
    "id": "NLIt8HhtvXO_",
    "outputId": "2733f737-d312-4d30-bb31-0fbdd8f0a394"
   },
   "outputs": [
    {
     "name": "stdout",
     "output_type": "stream",
     "text": [
      "[0.0, 0.0029938220977783203, 3.991, 9.977, 10.038, 33.464, 46.908, 66.771, 73.56, 93.723, 144.715, 153.646, 647.921, 1371.014, 2583.816, 4004.818, 5802.981, 8382.404, 10795.517, 12628.261, 16081.864]\n"
     ]
    }
   ],
   "source": [
    "print(tiempo)"
   ]
  },
  {
   "cell_type": "code",
   "execution_count": 112,
   "metadata": {
    "id": "GBZWjMjEDiOP"
   },
   "outputs": [],
   "source": [
    "tiempo_c=[0.015,0.78,0.145,0.343,0.469,0.594,0.749,0.906,1.031,1.191,1.343,1.484,3,4.406,6.025,7.361,9.633,10.096,11.966,13.237,16.734]"
   ]
  },
  {
   "cell_type": "code",
   "execution_count": 113,
   "metadata": {
    "colab": {
     "base_uri": "https://localhost:8080/"
    },
    "id": "JOtfSWsaDzVv",
    "outputId": "ab3e4d09-7eaa-409a-c36a-8ec6bc5cd5d7"
   },
   "outputs": [
    {
     "name": "stdout",
     "output_type": "stream",
     "text": [
      "[0.015, 0.78, 0.145, 0.343, 0.469, 0.594, 0.749, 0.906, 1.031, 1.191, 1.343, 1.484, 3, 4.406, 6.025, 7.361, 9.633, 10.096, 11.966, 13.237, 16.734]\n"
     ]
    }
   ],
   "source": [
    "print(tiempo_c)"
   ]
  },
  {
   "cell_type": "code",
   "execution_count": 114,
   "metadata": {
    "colab": {
     "base_uri": "https://localhost:8080/",
     "height": 295
    },
    "id": "H-Yps-rt1iCy",
    "outputId": "f9849200-8f46-4eaf-abf5-89b4cf26a7c1"
   },
   "outputs": [
    {
     "data": {
      "image/png": "[encoded data removed]",
      "text/plain": [
       "<Figure size 432x288 with 1 Axes>"
      ]
     },
     "metadata": {
      "needs_background": "light"
     },
     "output_type": "display_data"
    }
   ],
   "source": [
    "from matplotlib import pyplot as plt\n",
    "#plt.plot(tiempo)\n",
    "plt.plot(tiempo, label = \"line 1\")\n",
    "#plt.plot(tiempo_c)\n",
    "plt.plot(tiempo_c, label = \"line 2\")\n",
    "plt.title('Comparacion de algoritmos')\n",
    "plt.xlabel('Archivos')\n",
    "plt.ylabel('Tiempo de ejecución')\n",
    "plt.show()"
   ]
  },
  {
   "cell_type": "code",
   "execution_count": null,
   "metadata": {
    "id": "ZmtVVZck1iLm"
   },
   "outputs": [],
   "source": []
  },
  {
   "cell_type": "code",
   "execution_count": null,
   "metadata": {
    "id": "hf7L5fQjzBO9"
   },
   "outputs": [],
   "source": []
  },
  {
   "cell_type": "code",
   "execution_count": null,
   "metadata": {},
   "outputs": [],
   "source": []
  }
 ],
 "metadata": {
  "colab": {
   "collapsed_sections": [],
   "name": "countingSort.ipynb",
   "provenance": [],
   "toc_visible": true
  },
  "kernelspec": {
   "display_name": "Python 3",
   "language": "python",
   "name": "python3"
  },
  "language_info": {
   "codemirror_mode": {
    "name": "ipython",
    "version": 3
   },
   "file_extension": ".py",
   "mimetype": "text/x-python",
   "name": "python",
   "nbconvert_exporter": "python",
   "pygments_lexer": "ipython3",
   "version": "3.8.8"
  }
 },
 "nbformat": 4,
 "nbformat_minor": 1
}
